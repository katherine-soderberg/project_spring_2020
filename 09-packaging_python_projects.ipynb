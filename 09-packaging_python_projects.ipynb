{
 "cells": [
  {
   "cell_type": "markdown",
   "metadata": {},
   "source": [
    "If in need of troubleshooting getting this notebook:"
   ]
  },
  {
   "cell_type": "markdown",
   "metadata": {},
   "source": [
    "<!--NAVIGATION-->\n",
    " [Week 4](../2020-03-05/04_python_intro.ipynb) "
   ]
  },
  {
   "cell_type": "markdown",
   "metadata": {},
   "source": [
    "# Packaging with python"
   ]
  },
  {
   "cell_type": "markdown",
   "metadata": {},
   "source": [
    "This lesson draws heavily on the [python guide to packaging](https://packaging.python.org/tutorials/packaging-projects/).\n",
    "\n"
   ]
  },
  {
   "cell_type": "markdown",
   "metadata": {},
   "source": [
    "#### A very basic setup"
   ]
  },
  {
   "cell_type": "markdown",
   "metadata": {},
   "source": [
    "We will start by creating a new directory for our work on a package:"
   ]
  },
  {
   "cell_type": "code",
   "execution_count": 4,
   "metadata": {},
   "outputs": [],
   "source": [
    "package_name = \"kathodes_package\"\n",
    "%mv package_name/ kathodes_package"
   ]
  },
  {
   "cell_type": "markdown",
   "metadata": {},
   "source": [
    "Now we will create a directory structure for our package:"
   ]
  },
  {
   "cell_type": "code",
   "execution_count": 5,
   "metadata": {},
   "outputs": [],
   "source": [
    "from pathlib import Path\n",
    "python_dir = Path(package_name)\n",
    "(python_dir / '__init__.py').touch()\n",
    "Path('setup.py').touch()\n",
    "Path('LICENSE').touch()\n",
    "Path('README.md').touch()"
   ]
  },
  {
   "cell_type": "markdown",
   "metadata": {},
   "source": [
    "#### Adding metadata and installation details"
   ]
  },
  {
   "cell_type": "markdown",
   "metadata": {},
   "source": [
    "We now have many of the files that should be in a basic package. Let's start to generate some of the details.\n",
    "\n",
    "You can edit the following as you see fit. This setup.py file does the work for describing how your package is installed and telling users some of the details about package:"
   ]
  },
  {
   "cell_type": "code",
   "execution_count": 6,
   "metadata": {},
   "outputs": [
    {
     "name": "stdout",
     "output_type": "stream",
     "text": [
      "Overwriting setup.py\n"
     ]
    }
   ],
   "source": [
    "%%writefile setup.py\n",
    "import setuptools\n",
    "\n",
    "with open(\"README.md\", \"r\") as fh:\n",
    "    long_description = fh.read()\n",
    "\n",
    "setuptools.setup(\n",
    "    name=\"kathodes_package\", \n",
    "    version=\"0.0.1\",\n",
    "    author=\"Katherine Soderberg\",\n",
    "    author_email=\"katherine.soderberg@nih.gov\",\n",
    "    description=\"A small example package\",\n",
    "    long_description=long_description,\n",
    "    long_description_content_type=\"text/markdown\",\n",
    "    url=\"https://github.com/pypa/packaging_demo\",\n",
    "    packages=setuptools.find_packages(),\n",
    "    classifiers=[\n",
    "        \"Programming Language :: Python :: 3\",\n",
    "        \"License :: OSI Approved :: MIT License\",\n",
    "        \"Operating System :: OS Independent\",\n",
    "    ],\n",
    "    python_requires='>=3.6',\n",
    "\n",
    ")"
   ]
  },
  {
   "cell_type": "markdown",
   "metadata": {},
   "source": [
    "#### Describing our project to potential users"
   ]
  },
  {
   "cell_type": "markdown",
   "metadata": {},
   "source": [
    "\n",
    "We should also always have a readme file to help our users to orient themselves. Since we would often use github to distribute our code, markdown is a sensible file format for this:"
   ]
  },
  {
   "cell_type": "code",
   "execution_count": 5,
   "metadata": {},
   "outputs": [
    {
     "name": "stdout",
     "output_type": "stream",
     "text": [
      "Overwriting README.md\n"
     ]
    }
   ],
   "source": [
    "%%writefile README.md\n",
    "# Example Package\n",
    "\n",
    "This is a simple example package. You can use\n",
    "[Github-flavored Markdown](https://guides.github.com/features/mastering-markdown/)\n",
    "to write your content."
   ]
  },
  {
   "cell_type": "markdown",
   "metadata": {},
   "source": [
    "#### Letting others use our code"
   ]
  },
  {
   "cell_type": "markdown",
   "metadata": {},
   "source": [
    "You should always [choose a licence](https://choosealicense.com) to include with your code. It helps others to determine how they can use your code. Without a licence, most people simply cannot use your code based on their organizations regulations."
   ]
  },
  {
   "cell_type": "code",
   "execution_count": 6,
   "metadata": {},
   "outputs": [
    {
     "name": "stdout",
     "output_type": "stream",
     "text": [
      "Overwriting LICENSE\n"
     ]
    }
   ],
   "source": [
    "%%writefile LICENSE\n",
    "Copyright (c) 2018 The Python Packaging Authority\n",
    "\n",
    "Permission is hereby granted, free of charge, to any person obtaining a copy\n",
    "of this software and associated documentation files (the \"Software\"), to deal\n",
    "in the Software without restriction, including without limitation the rights\n",
    "to use, copy, modify, merge, publish, distribute, sublicense, and/or sell\n",
    "copies of the Software, and to permit persons to whom the Software is\n",
    "furnished to do so, subject to the following conditions:\n",
    "\n",
    "The above copyright notice and this permission notice shall be included in all\n",
    "copies or substantial portions of the Software.\n",
    "\n",
    "THE SOFTWARE IS PROVIDED \"AS IS\", WITHOUT WARRANTY OF ANY KIND, EXPRESS OR\n",
    "IMPLIED, INCLUDING BUT NOT LIMITED TO THE WARRANTIES OF MERCHANTABILITY,\n",
    "FITNESS FOR A PARTICULAR PURPOSE AND NONINFRINGEMENT. IN NO EVENT SHALL THE\n",
    "AUTHORS OR COPYRIGHT HOLDERS BE LIABLE FOR ANY CLAIM, DAMAGES OR OTHER\n",
    "LIABILITY, WHETHER IN AN ACTION OF CONTRACT, TORT OR OTHERWISE, ARISING FROM,\n",
    "OUT OF OR IN CONNECTION WITH THE SOFTWARE OR THE USE OR OTHER DEALINGS IN THE\n",
    "SOFTWARE."
   ]
  },
  {
   "cell_type": "markdown",
   "metadata": {},
   "source": [
    "#### Add code to package up"
   ]
  },
  {
   "cell_type": "code",
   "execution_count": 7,
   "metadata": {},
   "outputs": [
    {
     "name": "stdout",
     "output_type": "stream",
     "text": [
      "Writing example_pkg/calc.py\n"
     ]
    }
   ],
   "source": [
    "%%writefile example_pkg/calc.py\n",
    "def add(x, y):\n",
    "    \"\"\"Add Function\"\"\"\n",
    "    return x + y\n",
    "\n",
    "\n",
    "def subtract(x, y):\n",
    "    \"\"\"Subtract Function\"\"\"\n",
    "    return x - y\n",
    "\n",
    "\n",
    "def multiply(x, y):\n",
    "    \"\"\"Multiply Function\"\"\"\n",
    "    return x * y\n",
    "\n",
    "\n",
    "def divide(x, y):\n",
    "    \"\"\"Divide Function\"\"\"\n",
    "    if y == 0:\n",
    "        raise ValueError('Can not divide by zero!')\n",
    "    return x / y    \n",
    "\n",
    "# see http://katyhuff.github.io/python-testing/03-exceptions/\n",
    "def mean(num_list):\n",
    "    try:\n",
    "        return sum(num_list)/len(num_list)\n",
    "    except ZeroDivisionError :\n",
    "        return 0\n",
    "    except TypeError as detail :\n",
    "        msg = \"The algebraic mean of an non-numerical list is undefined.\\\n",
    "               Please provide a list of numbers.\"\n",
    "        raise TypeError(detail.__str__() + \"\\n\" +  msg)\n"
   ]
  },
  {
   "cell_type": "code",
   "execution_count": 8,
   "metadata": {},
   "outputs": [
    {
     "name": "stdout",
     "output_type": "stream",
     "text": [
      "Writing example_pkg/fizzbuzz.py\n"
     ]
    }
   ],
   "source": [
    "%%writefile example_pkg/fizzbuzz.py\n",
    "def fizzbuzz(n,fizz=3,buzz=5):\n",
    "    output = []\n",
    "    for number in range(n):\n",
    "        if number % fizz == 0 and number % 5 == 0:\n",
    "            output.append((number,\"fizzbuzz\"))\n",
    "            continue\n",
    "        elif number % 3 == 0:\n",
    "            output.append((number,\"fizz\"))\n",
    "            continue\n",
    "        elif number % 5 == 0:\n",
    "            output.append((number,\"buzz\"))\n",
    "            continue\n",
    "    return output\n",
    "\n",
    "def main():\n",
    "    print(fizzbuzz(10))\n",
    "\n",
    "\n",
    "if __name__ == '__main__':\n",
    "    main()"
   ]
  },
  {
   "cell_type": "markdown",
   "metadata": {},
   "source": [
    "And we are done! We now have all of the files to install our project, and a little code to see what happens. There are 3 ways of installing this code:\n",
    "    \n",
    "1. Upload our code to PyPA (linked to python packaging index--PyPI). We won't do this. It's not hard but you will really want to share your code before you want to do that.\n",
    "2. Install directly from github. As our package is now we are able to upload it to github and then have other users install our project directly from there!\n",
    "3. Install it from our local version. This is the easiest for now so lets do that."
   ]
  },
  {
   "cell_type": "code",
   "execution_count": 7,
   "metadata": {},
   "outputs": [
    {
     "name": "stdout",
     "output_type": "stream",
     "text": [
      "Obtaining file:///Users/katherinesoderberg/Documents/PythonClass/project_spring_2020\n",
      "Installing collected packages: kathodes-package\n",
      "  Found existing installation: kathodes-package 0.0.1\n",
      "    Can't uninstall 'kathodes-package'. No files were found to uninstall.\n",
      "  Running setup.py develop for kathodes-package\n",
      "Successfully installed kathodes-package\n",
      "Note: you may need to restart the kernel to use updated packages.\n"
     ]
    }
   ],
   "source": [
    "pip install -e ."
   ]
  },
  {
   "cell_type": "code",
   "execution_count": 10,
   "metadata": {},
   "outputs": [],
   "source": [
    "import kathodes_pa"
   ]
  },
  {
   "cell_type": "code",
   "execution_count": 12,
   "metadata": {},
   "outputs": [
    {
     "ename": "AttributeError",
     "evalue": "module 'example_pkg' has no attribute 'add'",
     "output_type": "error",
     "traceback": [
      "\u001b[0;31m---------------------------------------------------------------------------\u001b[0m",
      "\u001b[0;31mAttributeError\u001b[0m                            Traceback (most recent call last)",
      "\u001b[0;32m<ipython-input-12-bca6624cb538>\u001b[0m in \u001b[0;36m<module>\u001b[0;34m\u001b[0m\n\u001b[0;32m----> 1\u001b[0;31m \u001b[0mexample_pkg\u001b[0m\u001b[0;34m.\u001b[0m\u001b[0madd\u001b[0m\u001b[0;34m(\u001b[0m\u001b[0;36m4\u001b[0m\u001b[0;34m,\u001b[0m\u001b[0;36m5\u001b[0m\u001b[0;34m)\u001b[0m\u001b[0;34m\u001b[0m\u001b[0;34m\u001b[0m\u001b[0m\n\u001b[0m",
      "\u001b[0;31mAttributeError\u001b[0m: module 'example_pkg' has no attribute 'add'"
     ]
    }
   ],
   "source": [
    "example_pkg.add(4,5)"
   ]
  },
  {
   "cell_type": "markdown",
   "metadata": {},
   "source": [
    "# Revisiting tests"
   ]
  },
  {
   "cell_type": "markdown",
   "metadata": {},
   "source": [
    "Let's once again try to run or tests from last week. We'll copy the files from last week and then see if we can run them."
   ]
  },
  {
   "cell_type": "code",
   "execution_count": 25,
   "metadata": {},
   "outputs": [
    {
     "name": "stdout",
     "output_type": "stream",
     "text": [
      "tests/test_computation.py\n",
      "tests/test_mean.py\n"
     ]
    }
   ],
   "source": [
    "for f in Path('../../2020-04-02/tests').glob('*.py'):\n",
    "    new_file = (Path(\"tests\") / f.name)\n",
    "    print(new_file)\n",
    "    new_file.write_text(f.read_text().replace('mymath','example_pkg'))"
   ]
  },
  {
   "cell_type": "code",
   "execution_count": 13,
   "metadata": {},
   "outputs": [
    {
     "name": "stdout",
     "output_type": "stream",
     "text": [
      "/opt/anaconda3/bin/pytest\n"
     ]
    }
   ],
   "source": [
    "!which pytest"
   ]
  },
  {
   "cell_type": "code",
   "execution_count": 26,
   "metadata": {},
   "outputs": [
    {
     "name": "stdout",
     "output_type": "stream",
     "text": [
      "\u001b[1m============================= test session starts ==============================\u001b[0m\n",
      "platform darwin -- Python 3.7.4, pytest-5.2.1, py-1.8.0, pluggy-0.13.0\n",
      "rootdir: /Users/katherinesoderberg/Documents/PythonClass/spring_2020_thursdays/my_notebooks/2020-04-09/packaging_demo_in_class\n",
      "plugins: arraydiff-0.3, remotedata-0.3.2, doctestplus-0.4.0, openfiles-0.4.0\n",
      "collected 6 items                                                              \u001b[0m\n",
      "\n",
      "tests/test_computation.py \u001b[32m.\u001b[0m\u001b[36m                                              [ 16%]\u001b[0m\n",
      "tests/test_mean.py \u001b[32m.\u001b[0m\u001b[32m.\u001b[0m\u001b[32m.\u001b[0m\u001b[32m.\u001b[0m\u001b[31mF\u001b[0m\u001b[36m                                                 [100%]\u001b[0m\n",
      "\n",
      "=================================== FAILURES ===================================\n",
      "\u001b[31m\u001b[1m_________________________________ test_complex _________________________________\u001b[0m\n",
      "\n",
      "\u001b[1m    def test_complex():\u001b[0m\n",
      "\u001b[1m        # given that complex numbers are an unordered field\u001b[0m\n",
      "\u001b[1m        # the arithmetic mean of complex numbers is meaningless\u001b[0m\n",
      "\u001b[1m        num_list = [2 + 3j, 3 + 4j, -32 - 2j]\u001b[0m\n",
      "\u001b[1m        obs = mean(num_list)\u001b[0m\n",
      "\u001b[1m        exp = NotImplemented\u001b[0m\n",
      "\u001b[1m>       assert obs == exp\u001b[0m\n",
      "\u001b[1m\u001b[31mE       assert (-9+1.6666666666666667j) == NotImplemented\u001b[0m\n",
      "\n",
      "\u001b[1m\u001b[31mtests/test_mean.py\u001b[0m:34: AssertionError\n",
      "\u001b[31m\u001b[1m========================= 1 failed, 5 passed in 1.90s ==========================\u001b[0m\n"
     ]
    }
   ],
   "source": [
    "!pytest"
   ]
  },
  {
   "cell_type": "code",
   "execution_count": 24,
   "metadata": {},
   "outputs": [
    {
     "name": "stdout",
     "output_type": "stream",
     "text": [
      "\u001b[31mERROR: File \"setup.py\" not found. Directory cannot be installed in editable mode: /Users/katherinesoderberg/Documents/PythonClass/spring_2020_thursdays/my_notebooks/2020-04-09/packaging_demo_in_class/example_pkg\u001b[0m\n",
      "Note: you may need to restart the kernel to use updated packages.\n"
     ]
    }
   ],
   "source": [
    "pip install -e example_pkg"
   ]
  },
  {
   "cell_type": "code",
   "execution_count": 21,
   "metadata": {},
   "outputs": [
    {
     "name": "stdout",
     "output_type": "stream",
     "text": [
      "\u001b[1m============================= test session starts ==============================\u001b[0m\n",
      "platform darwin -- Python 3.7.4, pytest-5.2.1, py-1.8.0, pluggy-0.13.0\n",
      "rootdir: /Users/katherinesoderberg/Documents/PythonClass/spring_2020_thursdays/my_notebooks/2020-04-09/packaging_demo_in_class\n",
      "plugins: arraydiff-0.3, remotedata-0.3.2, doctestplus-0.4.0, openfiles-0.4.0\n",
      "collected 6 items                                                              \u001b[0m\n",
      "\n",
      "tests/test_computation.py \u001b[32m.\u001b[0m\u001b[36m                                              [ 16%]\u001b[0m\n",
      "tests/test_mean.py \u001b[32m.\u001b[0m\u001b[32m.\u001b[0m\u001b[32m.\u001b[0m\u001b[32m.\u001b[0m\u001b[31mF\u001b[0m\u001b[36m                                                 [100%]\u001b[0m\n",
      "\n",
      "=================================== FAILURES ===================================\n",
      "\u001b[31m\u001b[1m_________________________________ test_complex _________________________________\u001b[0m\n",
      "\n",
      "\u001b[1m    def test_complex():\u001b[0m\n",
      "\u001b[1m        # given that complex numbers are an unordered field\u001b[0m\n",
      "\u001b[1m        # the arithmetic mean of complex numbers is meaningless\u001b[0m\n",
      "\u001b[1m        num_list = [2 + 3j, 3 + 4j, -32 - 2j]\u001b[0m\n",
      "\u001b[1m        obs = mean(num_list)\u001b[0m\n",
      "\u001b[1m        exp = NotImplemented\u001b[0m\n",
      "\u001b[1m>       assert obs == exp\u001b[0m\n",
      "\u001b[1m\u001b[31mE       assert (-9+1.6666666666666667j) == NotImplemented\u001b[0m\n",
      "\n",
      "\u001b[1m\u001b[31mtests/test_mean.py\u001b[0m:34: AssertionError\n",
      "\u001b[31m\u001b[1m========================= 1 failed, 5 passed in 1.80s ==========================\u001b[0m\n"
     ]
    }
   ],
   "source": [
    "!pytest"
   ]
  },
  {
   "cell_type": "code",
   "execution_count": 1,
   "metadata": {},
   "outputs": [
    {
     "data": {
      "text/plain": [
       "'/Users/katherinesoderberg/Documents/PythonClass/spring_2020_thursdays/my_notebooks/2020-04-09'"
      ]
     },
     "execution_count": 1,
     "metadata": {},
     "output_type": "execute_result"
    }
   ],
   "source": [
    "pwd"
   ]
  },
  {
   "cell_type": "code",
   "execution_count": 2,
   "metadata": {},
   "outputs": [
    {
     "name": "stdout",
     "output_type": "stream",
     "text": [
      "/Users/katherinesoderberg/Documents/PythonClass/spring_2020_thursdays/my_notebooks/2020-04-09/packaging_demo_in_class\n"
     ]
    }
   ],
   "source": [
    "%cd packaging_demo_in_class/"
   ]
  },
  {
   "cell_type": "code",
   "execution_count": 3,
   "metadata": {},
   "outputs": [],
   "source": [
    "import example_pkg"
   ]
  },
  {
   "cell_type": "code",
   "execution_count": 5,
   "metadata": {},
   "outputs": [
    {
     "name": "stdout",
     "output_type": "stream",
     "text": [
      "Obtaining file:///Users/katherinesoderberg/Documents/PythonClass/spring_2020_thursdays/my_notebooks/2020-04-09/packaging_demo_in_class\n",
      "Installing collected packages: example-pkg\n",
      "  Found existing installation: example-pkg 0.0.1\n",
      "    Uninstalling example-pkg-0.0.1:\n",
      "      Successfully uninstalled example-pkg-0.0.1\n",
      "  Running setup.py develop for example-pkg\n",
      "Successfully installed example-pkg\n",
      "Note: you may need to restart the kernel to use updated packages.\n"
     ]
    }
   ],
   "source": [
    "pip install -e ."
   ]
  },
  {
   "cell_type": "code",
   "execution_count": 6,
   "metadata": {},
   "outputs": [
    {
     "name": "stdout",
     "output_type": "stream",
     "text": [
      "\u001b[1m============================= test session starts ==============================\u001b[0m\n",
      "platform darwin -- Python 3.7.4, pytest-5.2.1, py-1.8.0, pluggy-0.13.0\n",
      "rootdir: /Users/katherinesoderberg/Documents/PythonClass/spring_2020_thursdays/my_notebooks/2020-04-09/packaging_demo_in_class\n",
      "plugins: arraydiff-0.3, remotedata-0.3.2, doctestplus-0.4.0, openfiles-0.4.0\n",
      "collected 6 items                                                              \u001b[0m\n",
      "\n",
      "tests/test_computation.py \u001b[32m.\u001b[0m\u001b[36m                                              [ 16%]\u001b[0m\n",
      "tests/test_mean.py \u001b[32m.\u001b[0m\u001b[32m.\u001b[0m\u001b[32m.\u001b[0m\u001b[32m.\u001b[0m\u001b[32m.\u001b[0m\u001b[36m                                                 [100%]\u001b[0m\n",
      "\n",
      "\u001b[32m\u001b[1m============================== 6 passed in 12.77s ==============================\u001b[0m\n"
     ]
    }
   ],
   "source": [
    "!pytest"
   ]
  },
  {
   "cell_type": "code",
   "execution_count": null,
   "metadata": {},
   "outputs": [],
   "source": []
  }
 ],
 "metadata": {
  "kernelspec": {
   "display_name": "Python 3",
   "language": "python",
   "name": "python3"
  },
  "language_info": {
   "codemirror_mode": {
    "name": "ipython",
    "version": 3
   },
   "file_extension": ".py",
   "mimetype": "text/x-python",
   "name": "python",
   "nbconvert_exporter": "python",
   "pygments_lexer": "ipython3",
   "version": "3.7.4"
  }
 },
 "nbformat": 4,
 "nbformat_minor": 4
}
