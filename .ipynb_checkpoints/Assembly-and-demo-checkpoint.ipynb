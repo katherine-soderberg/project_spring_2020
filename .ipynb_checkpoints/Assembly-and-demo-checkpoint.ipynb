{
 "cells": [
  {
   "cell_type": "markdown",
   "metadata": {},
   "source": [
    "# Assembly and demonstration of Kathode's rsMRI QC package"
   ]
  },
  {
   "cell_type": "markdown",
   "metadata": {},
   "source": [
    "##### This project aims to produce a python package that is capable of taking a csv spreadsheet of information about a large number of resting state MRI scans and performing automated QC to determine which scans are usable and which should be excluded from future analyses. "
   ]
  },
  {
   "cell_type": "markdown",
   "metadata": {},
   "source": [
    "## Setting up the package"
   ]
  },
  {
   "cell_type": "code",
   "execution_count": 4,
   "metadata": {},
   "outputs": [],
   "source": [
    "package_name = \"kathodes_package\"\n",
    "%mv package_name/ kathodes_package"
   ]
  },
  {
   "cell_type": "code",
   "execution_count": 5,
   "metadata": {},
   "outputs": [],
   "source": [
    "from pathlib import Path\n",
    "python_dir = Path(package_name)\n",
    "(python_dir / '__init__.py').touch()\n",
    "Path('setup.py').touch()\n",
    "Path('LICENSE').touch()\n",
    "Path('README.md').touch()"
   ]
  },
  {
   "cell_type": "markdown",
   "metadata": {},
   "source": [
    "### Adding setup.py"
   ]
  },
  {
   "cell_type": "code",
   "execution_count": 6,
   "metadata": {},
   "outputs": [
    {
     "name": "stdout",
     "output_type": "stream",
     "text": [
      "Overwriting setup.py\n"
     ]
    }
   ],
   "source": [
    "%%writefile setup.py\n",
    "import setuptools\n",
    "\n",
    "with open(\"README.md\", \"r\") as fh:\n",
    "    long_description = fh.read()\n",
    "\n",
    "setuptools.setup(\n",
    "    name=\"kathodes_package\", \n",
    "    version=\"0.0.1\",\n",
    "    author=\"Katherine Soderberg\",\n",
    "    author_email=\"katherine.soderberg@nih.gov\",\n",
    "    description=\"A small example package\",\n",
    "    long_description=long_description,\n",
    "    long_description_content_type=\"text/markdown\",\n",
    "    url=\"https://github.com/pypa/packaging_demo\",\n",
    "    packages=setuptools.find_packages(),\n",
    "    classifiers=[\n",
    "        \"Programming Language :: Python :: 3\",\n",
    "        \"License :: OSI Approved :: MIT License\",\n",
    "        \"Operating System :: OS Independent\",\n",
    "    ],\n",
    "    python_requires='>=3.6',\n",
    "\n",
    ")"
   ]
  },
  {
   "cell_type": "markdown",
   "metadata": {},
   "source": [
    "### Creating README file"
   ]
  },
  {
   "cell_type": "code",
   "execution_count": 1,
   "metadata": {},
   "outputs": [
    {
     "name": "stdout",
     "output_type": "stream",
     "text": [
      "Overwriting README.md\n"
     ]
    }
   ],
   "source": [
    "%%writefile README.md\n",
    "# Example Package\n",
    "\n",
    "This is a package that can read in a table of data describing resting MRI scans and filter \n",
    "by specific scanner metrics to perform automated quality control. It produces information\n",
    "about which scans are high quality enough to proceed with processing. "
   ]
  },
  {
   "cell_type": "markdown",
   "metadata": {},
   "source": [
    "### Creating LICENSE file"
   ]
  },
  {
   "cell_type": "code",
   "execution_count": 6,
   "metadata": {},
   "outputs": [
    {
     "name": "stdout",
     "output_type": "stream",
     "text": [
      "Overwriting LICENSE\n"
     ]
    }
   ],
   "source": [
    "%%writefile LICENSE\n",
    "Copyright (c) 2018 The Python Packaging Authority\n",
    "\n",
    "Permission is hereby granted, free of charge, to any person obtaining a copy\n",
    "of this software and associated documentation files (the \"Software\"), to deal\n",
    "in the Software without restriction, including without limitation the rights\n",
    "to use, copy, modify, merge, publish, distribute, sublicense, and/or sell\n",
    "copies of the Software, and to permit persons to whom the Software is\n",
    "furnished to do so, subject to the following conditions:\n",
    "\n",
    "The above copyright notice and this permission notice shall be included in all\n",
    "copies or substantial portions of the Software.\n",
    "\n",
    "THE SOFTWARE IS PROVIDED \"AS IS\", WITHOUT WARRANTY OF ANY KIND, EXPRESS OR\n",
    "IMPLIED, INCLUDING BUT NOT LIMITED TO THE WARRANTIES OF MERCHANTABILITY,\n",
    "FITNESS FOR A PARTICULAR PURPOSE AND NONINFRINGEMENT. IN NO EVENT SHALL THE\n",
    "AUTHORS OR COPYRIGHT HOLDERS BE LIABLE FOR ANY CLAIM, DAMAGES OR OTHER\n",
    "LIABILITY, WHETHER IN AN ACTION OF CONTRACT, TORT OR OTHERWISE, ARISING FROM,\n",
    "OUT OF OR IN CONNECTION WITH THE SOFTWARE OR THE USE OR OTHER DEALINGS IN THE\n",
    "SOFTWARE."
   ]
  },
  {
   "cell_type": "markdown",
   "metadata": {},
   "source": [
    "## Coding the content of the package"
   ]
  },
  {
   "cell_type": "markdown",
   "metadata": {},
   "source": [
    "### Creating filesummary module"
   ]
  },
  {
   "cell_type": "code",
   "execution_count": 3,
   "metadata": {},
   "outputs": [
    {
     "name": "stdout",
     "output_type": "stream",
     "text": [
      "Overwriting kathodes_package/filesummary.py\n"
     ]
    }
   ],
   "source": [
    "%%writefile kathodes_package/filesummary.py\n",
    "\n",
    "def summarize(filename):\n",
    "    \"\"\"Return basic information about the contents of a csv file with the rows as scan instances.\"\"\"\n",
    "    import pandas as pd\n",
    "    if filename.endswith('.csv'):\n",
    "        loaded_file = pd.read_csv(filename)\n",
    "        print(\"The head of the file is:\" + \"\\n\" + str(loaded_file.head()))\n",
    "        print(\"Summary information about the file is as follows:\")\n",
    "        print(loaded_file.info())\n",
    "        number_of_scans = str(len(loaded_file.index))\n",
    "        print(\"The file contains information about \" + number_of_scans + \" scans.\")\n",
    "        closing_statement = filename + \" has been summarized.\"\n",
    "        return closing_statement\n",
    "    else: \n",
    "        print(\"The file provided is not in comma separated value format. Please convert your input file to .csv format before using this package.\")\n",
    "        \n",
    "def listColumns(filename):\n",
    "    import pandas as pd\n",
    "    loaded_file = pd.read_csv(filename)\n",
    "    colNames_list = loaded_file.columns\n",
    "    return colNames_list\n"
   ]
  },
  {
   "cell_type": "markdown",
   "metadata": {},
   "source": [
    "### Writing test for filesummary to ensure correct file type"
   ]
  },
  {
   "cell_type": "code",
   "execution_count": 2,
   "metadata": {},
   "outputs": [
    {
     "name": "stdout",
     "output_type": "stream",
     "text": [
      "Overwriting tests/test_input.py\n"
     ]
    }
   ],
   "source": [
    "%%writefile tests/test_input.py\n",
    "\n",
    "def test_input_is_csv():\n",
    "    from kathodes_package import filesummary\n",
    "    filename = 'sample.csv'\n",
    "    output = filesummary.summarize(filename)\n",
    "    assert output == \"sample.csv has been summarized.\""
   ]
  },
  {
   "cell_type": "code",
   "execution_count": 2,
   "metadata": {},
   "outputs": [
    {
     "name": "stdout",
     "output_type": "stream",
     "text": [
      "\u001b[1m============================= test session starts ==============================\u001b[0m\n",
      "platform darwin -- Python 3.7.4, pytest-5.2.1, py-1.8.0, pluggy-0.13.0\n",
      "rootdir: /Users/katherinesoderberg/Documents/PythonClass/project_spring_2020\n",
      "plugins: arraydiff-0.3, remotedata-0.3.2, doctestplus-0.4.0, openfiles-0.4.0\n",
      "collected 2 items                                                              \u001b[0m\n",
      "\n",
      "tests/sample_test.py \u001b[32m.\u001b[0m\u001b[36m                                                   [ 50%]\u001b[0m\n",
      "tests/test_input.py \u001b[32m.\u001b[0m\u001b[36m                                                    [100%]\u001b[0m\n",
      "\n",
      "\u001b[32m\u001b[1m============================== 2 passed in 0.36s ===============================\u001b[0m\n"
     ]
    }
   ],
   "source": [
    "!pytest"
   ]
  },
  {
   "cell_type": "markdown",
   "metadata": {},
   "source": [
    "### Creating data cleaning module"
   ]
  },
  {
   "cell_type": "code",
   "execution_count": 2,
   "metadata": {},
   "outputs": [
    {
     "name": "stdout",
     "output_type": "stream",
     "text": [
      "Overwriting kathodes_package/data_cleaning.py\n"
     ]
    }
   ],
   "source": [
    "%%writefile kathodes_package/data_cleaning.py\n",
    "\n",
    "def removeMissing(filename):\n",
    "    \"\"\"Takes a file that contains missing scans and removes those rows, while providing the subject name and reason for removal.\"\"\"\n",
    "    import pandas as pd\n",
    "    import math\n",
    "    loaded_file = pd.read_csv(filename)\n",
    "    cleaned_list = []\n",
    "    missing_counter = 0\n",
    "    for row in loaded_file.index:\n",
    "        if math.isnan(loaded_file.iloc[row, 3]):\n",
    "            print(\"Dropping subject scan \" + loaded_file.iloc[row, 0] + \" because of \" + loaded_file.iloc[row,1])\n",
    "            missing_counter = missing_counter + 1\n",
    "        else:\n",
    "            cleaned_list.append(loaded_file.iloc[row])\n",
    "    print(\"There were \" + str(missing_counter) + \" scans with missing data dropped.\")\n",
    "    cleaned_df = pd.DataFrame(cleaned_list)\n",
    "    return cleaned_df\n",
    "\n",
    "def voxelConsistency(cleaned_dataframe, column_number, expected_size):\n",
    "    \"\"\"Checks that every scan has the same voxel dimension, specified by the user.\"\"\"\n",
    "    import pandas as pd\n",
    "    consistency_boolean = True\n",
    "    for row in range(cleaned_dataframe.index.size - 1):\n",
    "        if cleaned_dataframe.iloc[row, column_number] != expected_size:\n",
    "            print(\"Subject scan \" + cleaned_dataframe.iloc[row, 0] + \" with row index of \" + str(row) + \" does not have voxel size of \" + str(expected_size))\n",
    "            consistency_boolean = False\n",
    "        else:\n",
    "            continue\n",
    "    return consistency_boolean\n"
   ]
  },
  {
   "cell_type": "markdown",
   "metadata": {},
   "source": [
    "### Creating outlier assessment module"
   ]
  },
  {
   "cell_type": "code",
   "execution_count": 5,
   "metadata": {},
   "outputs": [
    {
     "name": "stdout",
     "output_type": "stream",
     "text": [
      "Overwriting kathodes_package/outlier_assessment.py\n"
     ]
    }
   ],
   "source": [
    "%%writefile kathodes_package/outlier_assessment.py\n",
    "\n",
    "def outlierStats(outlier_list):\n",
    "    \"\"\"Takes a list of outliers and computes the mean and standard deviation\"\"\"\n",
    "    import statistics\n",
    "    try:\n",
    "        outlierMean = statistics.mean(outlier_list)\n",
    "        outlierStdev = statistics.stdev(outlier_list)\n",
    "        return outlierMean, outlierStdev\n",
    "    except TypeError :\n",
    "        explanation = \"Cannot compute statistics on a list of non-numerical elements.\"\n",
    "        return explanation\n",
    "    \n",
    "def outlierExclude(cleaned_dataframe, column_number, stdev_cutoff_factor):\n",
    "    \"\"\"Uses outlierStats to determine which scans have outlying volumes above a specified threshold and removes them.\"\"\"\n",
    "    import pandas as pd\n",
    "    column_as_series = cleaned_dataframe.iloc[:,column_number]\n",
    "    column_as_list = column_as_series.tolist()\n",
    "    mean, stdev = outlierStats(column_as_list)\n",
    "    upper_threshold = mean + (stdev * stdev_cutoff_factor)\n",
    "    lower_threshold = mean - (stdev * stdev_cutoff_factor)\n",
    "    noOutlier_list = []\n",
    "    for row in range(cleaned_dataframe.index.size - 1):\n",
    "        if (cleaned_dataframe.iloc[row, column_number] > upper_threshold) or (cleaned_dataframe.iloc[row, column_number] < lower_threshold):\n",
    "            print(\"Dropping subject scan \" + cleaned_dataframe.iloc[row, 0] + \" due to \" + str(cleaned_dataframe.iloc[row, column_number]) + \" outlying volumes.\" )\n",
    "        else:\n",
    "            noOutlier_list.append(cleaned_dataframe.iloc[row])\n",
    "    noOutlier_dataframe = pd.DataFrame(noOutlier_list)\n",
    "    return noOutlier_dataframe"
   ]
  },
  {
   "cell_type": "code",
   "execution_count": null,
   "metadata": {},
   "outputs": [],
   "source": [
    "\n",
    "# see http://katyhuff.github.io/python-testing/03-exceptions/\n",
    "def mean(num_list):\n",
    "    try:\n",
    "        return sum(num_list)/len(num_list)\n",
    "    except ZeroDivisionError :\n",
    "        return 0\n",
    "    except TypeError as detail :\n",
    "        msg = \"The algebraic mean of an non-numerical list is undefined.\\\n",
    "               Please provide a list of numbers.\"\n",
    "        raise TypeError(detail.__str__() + \"\\n\" +  msg)"
   ]
  },
  {
   "cell_type": "code",
   "execution_count": null,
   "metadata": {},
   "outputs": [],
   "source": []
  },
  {
   "cell_type": "code",
   "execution_count": 7,
   "metadata": {},
   "outputs": [
    {
     "name": "stdout",
     "output_type": "stream",
     "text": [
      "Obtaining file:///Users/katherinesoderberg/Documents/PythonClass/project_spring_2020\n",
      "Installing collected packages: kathodes-package\n",
      "  Found existing installation: kathodes-package 0.0.1\n",
      "    Can't uninstall 'kathodes-package'. No files were found to uninstall.\n",
      "  Running setup.py develop for kathodes-package\n",
      "Successfully installed kathodes-package\n",
      "Note: you may need to restart the kernel to use updated packages.\n"
     ]
    }
   ],
   "source": [
    "pip install -e ."
   ]
  },
  {
   "cell_type": "code",
   "execution_count": 8,
   "metadata": {},
   "outputs": [],
   "source": [
    "import kathodes_package"
   ]
  },
  {
   "cell_type": "markdown",
   "metadata": {},
   "source": [
    "## Demonstrating the package with example spreadsheet"
   ]
  },
  {
   "cell_type": "markdown",
   "metadata": {},
   "source": [
    "#### Show filesummary utilities--summarize file and list column names"
   ]
  },
  {
   "cell_type": "code",
   "execution_count": 1,
   "metadata": {},
   "outputs": [
    {
     "name": "stdout",
     "output_type": "stream",
     "text": [
      "The head of the file is:\n",
      "                         sub rest1.date.seq  rest1.NumOutliers  rest1.TR  \\\n",
      "0  abductor_lothian.06192015        61915.4               10.0       2.0   \n",
      "1  abductor_lothian.11082017       110817.4               15.0       2.0   \n",
      "2    addict_bavduin.09262013        92613.4               12.0       2.0   \n",
      "3    address_humans.04102014        41014.4                5.0       2.0   \n",
      "4    address_humans.04082016        40816.4               19.0       2.0   \n",
      "\n",
      "   rest1.nvox1  rest1.nvox2  rest1.nvox3  rest1.numTRs Keep?  rest2.date.seq  \\\n",
      "0        1.875        1.875          3.0         184.0     y         61915.5   \n",
      "1        1.875        1.875          3.0         184.0     y        112917.4   \n",
      "2        1.875        1.875          3.0         184.0     y         92613.5   \n",
      "3        1.875        1.875          3.0         184.0     y         41014.5   \n",
      "4        1.875        1.875          3.0         184.0     y         40816.5   \n",
      "\n",
      "   ...  rest7.nvox2  rest7.nvox3  rest7.numTRs  rest8.date.seq  \\\n",
      "0  ...          NaN          NaN           NaN             NaN   \n",
      "1  ...          NaN          NaN           NaN             NaN   \n",
      "2  ...          NaN          NaN           NaN             NaN   \n",
      "3  ...          NaN          NaN           NaN             NaN   \n",
      "4  ...          NaN          NaN           NaN             NaN   \n",
      "\n",
      "   rest8.NumOutliers  rest8.TR rest8.nvox1  rest8.nvox2  rest8.nvox3  \\\n",
      "0                NaN       NaN         NaN          NaN          NaN   \n",
      "1                NaN       NaN         NaN          NaN          NaN   \n",
      "2                NaN       NaN         NaN          NaN          NaN   \n",
      "3                NaN       NaN         NaN          NaN          NaN   \n",
      "4                NaN       NaN         NaN          NaN          NaN   \n",
      "\n",
      "   rest8.numTRs  \n",
      "0           NaN  \n",
      "1           NaN  \n",
      "2           NaN  \n",
      "3           NaN  \n",
      "4           NaN  \n",
      "\n",
      "[5 rows x 62 columns]\n",
      "Summary information about the file is as follows:\n",
      "<class 'pandas.core.frame.DataFrame'>\n",
      "RangeIndex: 475 entries, 0 to 474\n",
      "Data columns (total 62 columns):\n",
      "sub                  475 non-null object\n",
      "rest1.date.seq       475 non-null object\n",
      "rest1.NumOutliers    467 non-null float64\n",
      "rest1.TR             467 non-null float64\n",
      "rest1.nvox1          467 non-null float64\n",
      "rest1.nvox2          467 non-null float64\n",
      "rest1.nvox3          467 non-null float64\n",
      "rest1.numTRs         467 non-null float64\n",
      "Keep?                467 non-null object\n",
      "rest2.date.seq       467 non-null float64\n",
      "rest2.NumOutliers    467 non-null float64\n",
      "rest2.TR             467 non-null float64\n",
      "rest2.nvox1          467 non-null float64\n",
      "rest2.nvox2          467 non-null float64\n",
      "rest2.nvox3          467 non-null float64\n",
      "rest2.numTRs         467 non-null float64\n",
      "Keep?.1              467 non-null object\n",
      "rest3.date.seq       106 non-null float64\n",
      "rest3.NumOutliers    106 non-null float64\n",
      "rest3.TR             106 non-null float64\n",
      "rest3.nvox1          106 non-null float64\n",
      "rest3.nvox2          106 non-null float64\n",
      "rest3.nvox3          106 non-null float64\n",
      "rest3.numTRs         106 non-null float64\n",
      "Keep?.2              104 non-null object\n",
      "rest4.date.seq       30 non-null float64\n",
      "rest4.NumOutliers    30 non-null float64\n",
      "rest4.TR             30 non-null float64\n",
      "rest4.nvox1          30 non-null float64\n",
      "rest4.nvox2          30 non-null float64\n",
      "rest4.nvox3          30 non-null float64\n",
      "rest4.numTRs         30 non-null float64\n",
      "Unnamed: 32          27 non-null object\n",
      "rest5.date.seq       11 non-null float64\n",
      "rest5.NumOutliers    11 non-null float64\n",
      "rest5.TR             11 non-null float64\n",
      "rest5.nvox1          11 non-null float64\n",
      "rest5.nvox2          11 non-null float64\n",
      "rest5.nvox3          11 non-null float64\n",
      "rest5.numTRs         11 non-null float64\n",
      "Unnamed: 40          1 non-null object\n",
      "rest6.date.seq       10 non-null object\n",
      "rest6.NumOutliers    2 non-null float64\n",
      "rest6.TR             2 non-null float64\n",
      "rest6.nvox1          2 non-null float64\n",
      "rest6.nvox2          2 non-null float64\n",
      "rest6.nvox3          2 non-null float64\n",
      "rest6.numTRs         2 non-null float64\n",
      "rest7.date.seq       2 non-null object\n",
      "rest7.NumOutliers    1 non-null float64\n",
      "rest7.TR             1 non-null float64\n",
      "rest7.nvox1          1 non-null float64\n",
      "rest7.nvox2          1 non-null float64\n",
      "rest7.nvox3          1 non-null float64\n",
      "rest7.numTRs         1 non-null float64\n",
      "rest8.date.seq       1 non-null float64\n",
      "rest8.NumOutliers    1 non-null float64\n",
      "rest8.TR             1 non-null float64\n",
      "rest8.nvox1          1 non-null float64\n",
      "rest8.nvox2          1 non-null float64\n",
      "rest8.nvox3          1 non-null float64\n",
      "rest8.numTRs         1 non-null float64\n",
      "dtypes: float64(53), object(9)\n",
      "memory usage: 230.2+ KB\n",
      "None\n",
      "The file contains information about 475 scans.\n",
      "Index(['sub', 'rest1.date.seq', 'rest1.NumOutliers', 'rest1.TR', 'rest1.nvox1',\n",
      "       'rest1.nvox2', 'rest1.nvox3', 'rest1.numTRs', 'Keep?', 'rest2.date.seq',\n",
      "       'rest2.NumOutliers', 'rest2.TR', 'rest2.nvox1', 'rest2.nvox2',\n",
      "       'rest2.nvox3', 'rest2.numTRs', 'Keep?.1', 'rest3.date.seq',\n",
      "       'rest3.NumOutliers', 'rest3.TR', 'rest3.nvox1', 'rest3.nvox2',\n",
      "       'rest3.nvox3', 'rest3.numTRs', 'Keep?.2', 'rest4.date.seq',\n",
      "       'rest4.NumOutliers', 'rest4.TR', 'rest4.nvox1', 'rest4.nvox2',\n",
      "       'rest4.nvox3', 'rest4.numTRs', 'Unnamed: 32', 'rest5.date.seq',\n",
      "       'rest5.NumOutliers', 'rest5.TR', 'rest5.nvox1', 'rest5.nvox2',\n",
      "       'rest5.nvox3', 'rest5.numTRs', 'Unnamed: 40', 'rest6.date.seq',\n",
      "       'rest6.NumOutliers', 'rest6.TR', 'rest6.nvox1', 'rest6.nvox2',\n",
      "       'rest6.nvox3', 'rest6.numTRs', 'rest7.date.seq', 'rest7.NumOutliers',\n",
      "       'rest7.TR', 'rest7.nvox1', 'rest7.nvox2', 'rest7.nvox3', 'rest7.numTRs',\n",
      "       'rest8.date.seq', 'rest8.NumOutliers', 'rest8.TR', 'rest8.nvox1',\n",
      "       'rest8.nvox2', 'rest8.nvox3', 'rest8.numTRs'],\n",
      "      dtype='object')\n"
     ]
    }
   ],
   "source": [
    "from kathodes_package import filesummary\n",
    "filesummary.summarize(\"restqclist.040220_KS.csv\")\n",
    "column_names = filesummary.listColumns(\"restqclist.040220_KS.csv\")\n",
    "print(column_names)"
   ]
  },
  {
   "cell_type": "markdown",
   "metadata": {},
   "source": [
    "#### Show data_cleaning utilities--remove subject scans with missing data and show reason"
   ]
  },
  {
   "cell_type": "code",
   "execution_count": 1,
   "metadata": {},
   "outputs": [
    {
     "name": "stdout",
     "output_type": "stream",
     "text": [
      "Dropping subject scan affect_bathwater.11062014 because of notMEMPRAGE\n",
      "Dropping subject scan airway_sidecar.06232015 because of notMEMPRAGE\n",
      "Dropping subject scan business_wishbone.06072012 because of notMEMPRAGE\n",
      "Dropping subject scan cattle_fragolli.02292012 because of problemWithTarball\n",
      "Dropping subject scan fundraiser_spandau.04162015 because of problemWithTarball\n",
      "Dropping subject scan melwas_stereo.01282016 because of notMEMPRAGE\n",
      "Dropping subject scan piazza_sedation.05032013 because of notMEMPRAGE\n",
      "Dropping subject scan pricks_leyden.12202013 because of notMEMPRAGE\n",
      "There were 8 scans with missing data dropped.\n"
     ]
    }
   ],
   "source": [
    "from kathodes_package import data_cleaning\n",
    "cleaned_dataframe = data_cleaning.removeMissing('restqclist.040220_KS.csv')\n"
   ]
  },
  {
   "cell_type": "code",
   "execution_count": 2,
   "metadata": {},
   "outputs": [
    {
     "name": "stdout",
     "output_type": "stream",
     "text": [
      "                            sub rest1.date.seq  rest1.NumOutliers  rest1.TR  \\\n",
      "0     abductor_lothian.06192015        61915.4               10.0       2.0   \n",
      "1     abductor_lothian.11082017       110817.4               15.0       2.0   \n",
      "2       addict_bavduin.09262013        92613.4               12.0       2.0   \n",
      "3       address_humans.04102014        41014.4                5.0       2.0   \n",
      "4       address_humans.04082016        40816.4               19.0       2.0   \n",
      "..                          ...            ...                ...       ...   \n",
      "470  wordlist_deloitte.12142016       121416.4                5.0       2.0   \n",
      "471     xpress_discman.03012019        30119.4                8.0       2.0   \n",
      "472    zakopane_strabo.04132013        41313.4                3.0       2.0   \n",
      "473      zambia_captor.09082011        90811.4                0.0       2.0   \n",
      "474      zambia_captor.04242013        42413.4               12.0       2.0   \n",
      "\n",
      "     rest1.nvox1  rest1.nvox2  rest1.nvox3  rest1.numTRs Keep?  \\\n",
      "0          1.875        1.875          3.0         184.0     y   \n",
      "1          1.875        1.875          3.0         184.0     y   \n",
      "2          1.875        1.875          3.0         184.0     y   \n",
      "3          1.875        1.875          3.0         184.0     y   \n",
      "4          1.875        1.875          3.0         184.0     y   \n",
      "..           ...          ...          ...           ...   ...   \n",
      "470        1.875        1.875          3.0         184.0     y   \n",
      "471        1.875        1.875          3.0         184.0     y   \n",
      "472        1.875        1.875          3.0         184.0     y   \n",
      "473        1.875        1.875          3.0           2.0     n   \n",
      "474        1.875        1.875          3.0         184.0     y   \n",
      "\n",
      "     rest2.date.seq  ...  rest7.nvox2  rest7.nvox3  rest7.numTRs  \\\n",
      "0           61915.5  ...          NaN          NaN           NaN   \n",
      "1          112917.4  ...          NaN          NaN           NaN   \n",
      "2           92613.5  ...          NaN          NaN           NaN   \n",
      "3           41014.5  ...          NaN          NaN           NaN   \n",
      "4           40816.5  ...          NaN          NaN           NaN   \n",
      "..              ...  ...          ...          ...           ...   \n",
      "470        121416.5  ...          NaN          NaN           NaN   \n",
      "471         30119.5  ...          NaN          NaN           NaN   \n",
      "472         41313.5  ...          NaN          NaN           NaN   \n",
      "473         90811.5  ...          NaN          NaN           NaN   \n",
      "474         42413.5  ...          NaN          NaN           NaN   \n",
      "\n",
      "     rest8.date.seq  rest8.NumOutliers  rest8.TR rest8.nvox1  rest8.nvox2  \\\n",
      "0               NaN                NaN       NaN         NaN          NaN   \n",
      "1               NaN                NaN       NaN         NaN          NaN   \n",
      "2               NaN                NaN       NaN         NaN          NaN   \n",
      "3               NaN                NaN       NaN         NaN          NaN   \n",
      "4               NaN                NaN       NaN         NaN          NaN   \n",
      "..              ...                ...       ...         ...          ...   \n",
      "470             NaN                NaN       NaN         NaN          NaN   \n",
      "471             NaN                NaN       NaN         NaN          NaN   \n",
      "472             NaN                NaN       NaN         NaN          NaN   \n",
      "473             NaN                NaN       NaN         NaN          NaN   \n",
      "474             NaN                NaN       NaN         NaN          NaN   \n",
      "\n",
      "     rest8.nvox3  rest8.numTRs  \n",
      "0            NaN           NaN  \n",
      "1            NaN           NaN  \n",
      "2            NaN           NaN  \n",
      "3            NaN           NaN  \n",
      "4            NaN           NaN  \n",
      "..           ...           ...  \n",
      "470          NaN           NaN  \n",
      "471          NaN           NaN  \n",
      "472          NaN           NaN  \n",
      "473          NaN           NaN  \n",
      "474          NaN           NaN  \n",
      "\n",
      "[467 rows x 62 columns]\n"
     ]
    }
   ],
   "source": [
    "print(cleaned_dataframe)"
   ]
  },
  {
   "cell_type": "code",
   "execution_count": 5,
   "metadata": {},
   "outputs": [
    {
     "name": "stdout",
     "output_type": "stream",
     "text": [
      "467\n"
     ]
    }
   ],
   "source": [
    "print(cleaned_dataframe.index.size)"
   ]
  },
  {
   "cell_type": "markdown",
   "metadata": {},
   "source": [
    "#### Show data_cleaning utilities--check for voxel size consistency"
   ]
  },
  {
   "cell_type": "code",
   "execution_count": 2,
   "metadata": {},
   "outputs": [
    {
     "name": "stdout",
     "output_type": "stream",
     "text": [
      "Subject scan blowpipe_slains.07082011 with row index of 35 does not have voxel size of 1.875\n",
      "Subject scan pipette_simenon.07202011 with row index of 335 does not have voxel size of 1.875\n"
     ]
    },
    {
     "data": {
      "text/plain": [
       "False"
      ]
     },
     "execution_count": 2,
     "metadata": {},
     "output_type": "execute_result"
    }
   ],
   "source": [
    "data_cleaning.voxelConsistency(cleaned_dataframe,4,1.875)"
   ]
  },
  {
   "cell_type": "markdown",
   "metadata": {},
   "source": [
    "##### Remove rows with inconsistent voxel sizes"
   ]
  },
  {
   "cell_type": "code",
   "execution_count": 3,
   "metadata": {},
   "outputs": [
    {
     "name": "stdout",
     "output_type": "stream",
     "text": [
      "sub                  blowpipe_slains.07082011\n",
      "rest1.date.seq                        70811.1\n",
      "rest1.NumOutliers                          24\n",
      "rest1.TR                                 1.47\n",
      "rest1.nvox1                              3.75\n",
      "                               ...           \n",
      "rest8.TR                                1.695\n",
      "rest8.nvox1                              3.75\n",
      "rest8.nvox2                              3.75\n",
      "rest8.nvox3                                 3\n",
      "rest8.numTRs                              177\n",
      "Name: 37, Length: 62, dtype: object\n",
      "sub                  pipette_simenon.07202011\n",
      "rest1.date.seq                        72011.1\n",
      "rest1.NumOutliers                           7\n",
      "rest1.TR                                    2\n",
      "rest1.nvox1                               2.5\n",
      "                               ...           \n",
      "rest8.TR                                  NaN\n",
      "rest8.nvox1                               NaN\n",
      "rest8.nvox2                               NaN\n",
      "rest8.nvox3                               NaN\n",
      "rest8.numTRs                              NaN\n",
      "Name: 342, Length: 62, dtype: object\n"
     ]
    }
   ],
   "source": [
    "#print rows with different voxel sizes\n",
    "print(cleaned_dataframe.iloc[35])\n",
    "print(cleaned_dataframe.iloc[335])"
   ]
  },
  {
   "cell_type": "code",
   "execution_count": 2,
   "metadata": {},
   "outputs": [],
   "source": [
    "cleaned_consistent_dataframe = cleaned_dataframe.drop(cleaned_dataframe.index[35])\n",
    "cleaned_consistent_dataframe = cleaned_consistent_dataframe.drop(cleaned_consistent_dataframe.index[334])"
   ]
  },
  {
   "cell_type": "markdown",
   "metadata": {},
   "source": [
    "##### Check again for voxel size consistency"
   ]
  },
  {
   "cell_type": "code",
   "execution_count": 3,
   "metadata": {},
   "outputs": [
    {
     "data": {
      "text/plain": [
       "True"
      ]
     },
     "execution_count": 3,
     "metadata": {},
     "output_type": "execute_result"
    }
   ],
   "source": [
    "data_cleaning.voxelConsistency(cleaned_consistent_dataframe,4,1.875)"
   ]
  },
  {
   "cell_type": "markdown",
   "metadata": {},
   "source": [
    "After using voxelConsistency, all voxels for the specified dimension have the same size. This process can be repeated for other dimensions in other scans."
   ]
  },
  {
   "cell_type": "markdown",
   "metadata": {},
   "source": [
    "#### Show outlier_assessment utilities"
   ]
  },
  {
   "cell_type": "code",
   "execution_count": 4,
   "metadata": {},
   "outputs": [
    {
     "name": "stdout",
     "output_type": "stream",
     "text": [
      "Dropping subject scan bistro_otitis.06292017 due to 67.0 outlying volumes.\n",
      "Dropping subject scan cheney_diaspora.03282019 due to 49.0 outlying volumes.\n",
      "Dropping subject scan contra_cutter.03152012 due to 67.0 outlying volumes.\n",
      "Dropping subject scan density_flares.08052016 due to 50.0 outlying volumes.\n",
      "Dropping subject scan dotage_messes.06242019 due to 70.0 outlying volumes.\n",
      "Dropping subject scan findlay_delays.08302018 due to 51.0 outlying volumes.\n",
      "Dropping subject scan frazer_status.10202011 due to 50.0 outlying volumes.\n",
      "Dropping subject scan grunge_aleppo.06192014 due to 51.0 outlying volumes.\n",
      "Dropping subject scan hanging_bletchley.10222018 due to 50.0 outlying volumes.\n",
      "Dropping subject scan hilaire_thurrock.10172013 due to 139.0 outlying volumes.\n",
      "Dropping subject scan hillman_miscue.04102014 due to 70.0 outlying volumes.\n",
      "Dropping subject scan islington_torsades.10172013 due to 98.0 outlying volumes.\n",
      "Dropping subject scan mitosis_jekyll.03042016 due to 68.0 outlying volumes.\n",
      "Dropping subject scan pageant_kermit.04042013 due to 99.0 outlying volumes.\n",
      "Dropping subject scan panther_restart.08162017 due to 66.0 outlying volumes.\n",
      "Dropping subject scan pidgin_mosses.03242016 due to 53.0 outlying volumes.\n",
      "Dropping subject scan reynard_mousse.09012011 due to 67.0 outlying volumes.\n",
      "Dropping subject scan seeker_cousteau.08012014 due to 57.0 outlying volumes.\n",
      "Dropping subject scan siting_footnote.02012013 due to 65.0 outlying volumes.\n",
      "Dropping subject scan sizzle_senior.02192013 due to 73.0 outlying volumes.\n",
      "Dropping subject scan synonym_enfield.05152014 due to 74.0 outlying volumes.\n",
      "Dropping subject scan wheats_homemaker.07282011 due to 52.0 outlying volumes.\n"
     ]
    }
   ],
   "source": [
    "from kathodes_package import outlier_assessment\n",
    "#\n",
    "cc_dataframe_noOutliers = outlier_assessment.outlierExclude(cleaned_consistent_dataframe,2,2)"
   ]
  },
  {
   "cell_type": "code",
   "execution_count": 5,
   "metadata": {},
   "outputs": [
    {
     "name": "stdout",
     "output_type": "stream",
     "text": [
      "                            sub rest1.date.seq  rest1.NumOutliers  rest1.TR  \\\n",
      "0     abductor_lothian.06192015        61915.4               10.0       2.0   \n",
      "1     abductor_lothian.11082017       110817.4               15.0       2.0   \n",
      "2       addict_bavduin.09262013        92613.4               12.0       2.0   \n",
      "3       address_humans.04102014        41014.4                5.0       2.0   \n",
      "4       address_humans.04082016        40816.4               19.0       2.0   \n",
      "..                          ...            ...                ...       ...   \n",
      "469  wordlist_deloitte.05302014        53014.4               10.0       2.0   \n",
      "470  wordlist_deloitte.12142016       121416.4                5.0       2.0   \n",
      "471     xpress_discman.03012019        30119.4                8.0       2.0   \n",
      "472    zakopane_strabo.04132013        41313.4                3.0       2.0   \n",
      "473      zambia_captor.09082011        90811.4                0.0       2.0   \n",
      "\n",
      "     rest1.nvox1  rest1.nvox2  rest1.nvox3  rest1.numTRs Keep?  \\\n",
      "0          1.875        1.875          3.0         184.0     y   \n",
      "1          1.875        1.875          3.0         184.0     y   \n",
      "2          1.875        1.875          3.0         184.0     y   \n",
      "3          1.875        1.875          3.0         184.0     y   \n",
      "4          1.875        1.875          3.0         184.0     y   \n",
      "..           ...          ...          ...           ...   ...   \n",
      "469        1.875        1.875          3.0         184.0     y   \n",
      "470        1.875        1.875          3.0         184.0     y   \n",
      "471        1.875        1.875          3.0         184.0     y   \n",
      "472        1.875        1.875          3.0         184.0     y   \n",
      "473        1.875        1.875          3.0           2.0     n   \n",
      "\n",
      "     rest2.date.seq  ...  rest7.nvox2  rest7.nvox3  rest7.numTRs  \\\n",
      "0           61915.5  ...          NaN          NaN           NaN   \n",
      "1          112917.4  ...          NaN          NaN           NaN   \n",
      "2           92613.5  ...          NaN          NaN           NaN   \n",
      "3           41014.5  ...          NaN          NaN           NaN   \n",
      "4           40816.5  ...          NaN          NaN           NaN   \n",
      "..              ...  ...          ...          ...           ...   \n",
      "469         53014.5  ...          NaN          NaN           NaN   \n",
      "470        121416.5  ...          NaN          NaN           NaN   \n",
      "471         30119.5  ...          NaN          NaN           NaN   \n",
      "472         41313.5  ...          NaN          NaN           NaN   \n",
      "473         90811.5  ...          NaN          NaN           NaN   \n",
      "\n",
      "     rest8.date.seq  rest8.NumOutliers  rest8.TR rest8.nvox1  rest8.nvox2  \\\n",
      "0               NaN                NaN       NaN         NaN          NaN   \n",
      "1               NaN                NaN       NaN         NaN          NaN   \n",
      "2               NaN                NaN       NaN         NaN          NaN   \n",
      "3               NaN                NaN       NaN         NaN          NaN   \n",
      "4               NaN                NaN       NaN         NaN          NaN   \n",
      "..              ...                ...       ...         ...          ...   \n",
      "469             NaN                NaN       NaN         NaN          NaN   \n",
      "470             NaN                NaN       NaN         NaN          NaN   \n",
      "471             NaN                NaN       NaN         NaN          NaN   \n",
      "472             NaN                NaN       NaN         NaN          NaN   \n",
      "473             NaN                NaN       NaN         NaN          NaN   \n",
      "\n",
      "     rest8.nvox3  rest8.numTRs  \n",
      "0            NaN           NaN  \n",
      "1            NaN           NaN  \n",
      "2            NaN           NaN  \n",
      "3            NaN           NaN  \n",
      "4            NaN           NaN  \n",
      "..           ...           ...  \n",
      "469          NaN           NaN  \n",
      "470          NaN           NaN  \n",
      "471          NaN           NaN  \n",
      "472          NaN           NaN  \n",
      "473          NaN           NaN  \n",
      "\n",
      "[442 rows x 62 columns]\n"
     ]
    }
   ],
   "source": [
    "print(cc_dataframe_noOutliers)"
   ]
  },
  {
   "cell_type": "code",
   "execution_count": null,
   "metadata": {},
   "outputs": [],
   "source": []
  }
 ],
 "metadata": {
  "kernelspec": {
   "display_name": "Python 3",
   "language": "python",
   "name": "python3"
  },
  "language_info": {
   "codemirror_mode": {
    "name": "ipython",
    "version": 3
   },
   "file_extension": ".py",
   "mimetype": "text/x-python",
   "name": "python",
   "nbconvert_exporter": "python",
   "pygments_lexer": "ipython3",
   "version": "3.7.4"
  }
 },
 "nbformat": 4,
 "nbformat_minor": 4
}
