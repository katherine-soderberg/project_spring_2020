{
 "cells": [
  {
   "cell_type": "markdown",
   "metadata": {},
   "source": [
    "# Assembly and demonstration of Kathode's rsMRI QC package"
   ]
  },
  {
   "cell_type": "markdown",
   "metadata": {},
   "source": [
    "##### This project aims to produce a python package that is capable of taking a csv spreadsheet of information about a large number of resting state MRI scans and performing automated QC to determine which scans are usable and which should be excluded from future analyses. "
   ]
  },
  {
   "cell_type": "markdown",
   "metadata": {},
   "source": [
    "## Setting up the package"
   ]
  },
  {
   "cell_type": "code",
   "execution_count": 4,
   "metadata": {},
   "outputs": [],
   "source": [
    "package_name = \"kathodes_package\"\n",
    "%mv package_name/ kathodes_package"
   ]
  },
  {
   "cell_type": "code",
   "execution_count": 5,
   "metadata": {},
   "outputs": [],
   "source": [
    "from pathlib import Path\n",
    "python_dir = Path(package_name)\n",
    "(python_dir / '__init__.py').touch()\n",
    "Path('setup.py').touch()\n",
    "Path('LICENSE').touch()\n",
    "Path('README.md').touch()"
   ]
  },
  {
   "cell_type": "markdown",
   "metadata": {},
   "source": [
    "#### Adding setup.py"
   ]
  },
  {
   "cell_type": "code",
   "execution_count": 6,
   "metadata": {},
   "outputs": [
    {
     "name": "stdout",
     "output_type": "stream",
     "text": [
      "Overwriting setup.py\n"
     ]
    }
   ],
   "source": [
    "%%writefile setup.py\n",
    "import setuptools\n",
    "\n",
    "with open(\"README.md\", \"r\") as fh:\n",
    "    long_description = fh.read()\n",
    "\n",
    "setuptools.setup(\n",
    "    name=\"kathodes_package\", \n",
    "    version=\"0.0.1\",\n",
    "    author=\"Katherine Soderberg\",\n",
    "    author_email=\"katherine.soderberg@nih.gov\",\n",
    "    description=\"A small example package\",\n",
    "    long_description=long_description,\n",
    "    long_description_content_type=\"text/markdown\",\n",
    "    url=\"https://github.com/pypa/packaging_demo\",\n",
    "    packages=setuptools.find_packages(),\n",
    "    classifiers=[\n",
    "        \"Programming Language :: Python :: 3\",\n",
    "        \"License :: OSI Approved :: MIT License\",\n",
    "        \"Operating System :: OS Independent\",\n",
    "    ],\n",
    "    python_requires='>=3.6',\n",
    "\n",
    ")"
   ]
  },
  {
   "cell_type": "markdown",
   "metadata": {},
   "source": [
    "#### Creating README file"
   ]
  },
  {
   "cell_type": "code",
   "execution_count": 1,
   "metadata": {},
   "outputs": [
    {
     "name": "stdout",
     "output_type": "stream",
     "text": [
      "Overwriting README.md\n"
     ]
    }
   ],
   "source": [
    "%%writefile README.md\n",
    "# Example Package\n",
    "\n",
    "This is a package that can read in a table of data describing resting MRI scans and filter \n",
    "by specific scanner metrics to perform automated quality control. It produces information\n",
    "about which scans are high quality enough to proceed with processing. "
   ]
  },
  {
   "cell_type": "markdown",
   "metadata": {},
   "source": [
    "#### Creating LICENSE file"
   ]
  },
  {
   "cell_type": "code",
   "execution_count": 6,
   "metadata": {},
   "outputs": [
    {
     "name": "stdout",
     "output_type": "stream",
     "text": [
      "Overwriting LICENSE\n"
     ]
    }
   ],
   "source": [
    "%%writefile LICENSE\n",
    "Copyright (c) 2018 The Python Packaging Authority\n",
    "\n",
    "Permission is hereby granted, free of charge, to any person obtaining a copy\n",
    "of this software and associated documentation files (the \"Software\"), to deal\n",
    "in the Software without restriction, including without limitation the rights\n",
    "to use, copy, modify, merge, publish, distribute, sublicense, and/or sell\n",
    "copies of the Software, and to permit persons to whom the Software is\n",
    "furnished to do so, subject to the following conditions:\n",
    "\n",
    "The above copyright notice and this permission notice shall be included in all\n",
    "copies or substantial portions of the Software.\n",
    "\n",
    "THE SOFTWARE IS PROVIDED \"AS IS\", WITHOUT WARRANTY OF ANY KIND, EXPRESS OR\n",
    "IMPLIED, INCLUDING BUT NOT LIMITED TO THE WARRANTIES OF MERCHANTABILITY,\n",
    "FITNESS FOR A PARTICULAR PURPOSE AND NONINFRINGEMENT. IN NO EVENT SHALL THE\n",
    "AUTHORS OR COPYRIGHT HOLDERS BE LIABLE FOR ANY CLAIM, DAMAGES OR OTHER\n",
    "LIABILITY, WHETHER IN AN ACTION OF CONTRACT, TORT OR OTHERWISE, ARISING FROM,\n",
    "OUT OF OR IN CONNECTION WITH THE SOFTWARE OR THE USE OR OTHER DEALINGS IN THE\n",
    "SOFTWARE."
   ]
  },
  {
   "cell_type": "markdown",
   "metadata": {},
   "source": [
    "## Coding the content of the package"
   ]
  },
  {
   "cell_type": "markdown",
   "metadata": {},
   "source": [
    "#### Creating filesummary module"
   ]
  },
  {
   "cell_type": "code",
   "execution_count": 3,
   "metadata": {},
   "outputs": [
    {
     "name": "stdout",
     "output_type": "stream",
     "text": [
      "Overwriting kathodes_package/filesummary.py\n"
     ]
    }
   ],
   "source": [
    "%%writefile kathodes_package/filesummary.py\n",
    "\n",
    "def summarize(filename):\n",
    "    \"\"\"Return basic information about the contents of a csv file with the rows as scan instances.\"\"\"\n",
    "    import pandas as pd\n",
    "    if filename.endswith('.csv'):\n",
    "        loaded_file = pd.read_csv(filename)\n",
    "        print(\"The head of the file is:\" + \"\\n\" + str(loaded_file.head()))\n",
    "        print(\"Summary information about the file is as follows:\")\n",
    "        print(loaded_file.info())\n",
    "        number_of_scans = str(len(loaded_file.index))\n",
    "        print(\"The file contains information about \" + number_of_scans + \" scans.\")\n",
    "        closing_statement = filename + \" has been summarized.\"\n",
    "        return closing_statement\n",
    "    else: \n",
    "        print(\"The file provided is not in comma separated value format. Please convert your input file to .csv format before using this package.\")\n",
    "        \n",
    "def listColumns(filename):\n",
    "    import pandas as pd\n",
    "    loaded_file = pd.read_csv(filename)\n",
    "    colNames_list = loaded_file.columns\n",
    "    return colNames_list\n"
   ]
  },
  {
   "cell_type": "markdown",
   "metadata": {},
   "source": [
    "#### Writing test for filesummary to ensure correct file type"
   ]
  },
  {
   "cell_type": "code",
   "execution_count": 2,
   "metadata": {},
   "outputs": [
    {
     "name": "stdout",
     "output_type": "stream",
     "text": [
      "Overwriting tests/test_input.py\n"
     ]
    }
   ],
   "source": [
    "%%writefile tests/test_input.py\n",
    "\n",
    "def test_input_is_csv():\n",
    "    from kathodes_package import filesummary\n",
    "    filename = 'sample.csv'\n",
    "    output = filesummary.summarize(filename)\n",
    "    assert output == \"sample.csv has been summarized.\""
   ]
  },
  {
   "cell_type": "code",
   "execution_count": 2,
   "metadata": {},
   "outputs": [
    {
     "name": "stdout",
     "output_type": "stream",
     "text": [
      "\u001b[1m============================= test session starts ==============================\u001b[0m\n",
      "platform darwin -- Python 3.7.4, pytest-5.2.1, py-1.8.0, pluggy-0.13.0\n",
      "rootdir: /Users/katherinesoderberg/Documents/PythonClass/project_spring_2020\n",
      "plugins: arraydiff-0.3, remotedata-0.3.2, doctestplus-0.4.0, openfiles-0.4.0\n",
      "collected 2 items                                                              \u001b[0m\n",
      "\n",
      "tests/sample_test.py \u001b[32m.\u001b[0m\u001b[36m                                                   [ 50%]\u001b[0m\n",
      "tests/test_input.py \u001b[32m.\u001b[0m\u001b[36m                                                    [100%]\u001b[0m\n",
      "\n",
      "\u001b[32m\u001b[1m============================== 2 passed in 0.36s ===============================\u001b[0m\n"
     ]
    }
   ],
   "source": [
    "!pytest"
   ]
  },
  {
   "cell_type": "markdown",
   "metadata": {},
   "source": [
    "#### Creating data cleaning module"
   ]
  },
  {
   "cell_type": "code",
   "execution_count": 2,
   "metadata": {},
   "outputs": [
    {
     "name": "stdout",
     "output_type": "stream",
     "text": [
      "Writing kathodes_package/data_cleaning.py\n"
     ]
    }
   ],
   "source": [
    "%%writefile kathodes_package/data_cleaning.py\n",
    "\n",
    "def removeMissing(filename):\n",
    "    \"\"\"Takes a file that contains missing scans and removes those rows, while providing the subject name and reason for removal.\"\"\"\n",
    "    loaded_file = pd.read_csv(filename)\n",
    "    cleaned_list = []\n",
    "    missing_counter = 0\n",
    "    for row in loaded_file.index:\n",
    "        if loaded_file[3][row] == \"\":\n",
    "            print(\"Dropping subject scan \" + loaded_file[0][row] + \" because of \" + loaded_file[1][row])\n",
    "            counter = counter + 1\n",
    "        else:\n",
    "            cleaned_list.append(loaded_file[:][row])\n",
    "    print(\"There were \" + str(counter) + \" scans with missing data dropped.\")\n",
    "    cleaned_df = pd.DataFrame(cleaned_list)\n",
    "    return cleaned_df\n",
    "\n",
    "def voxelConsistency(cleaned_dataframe, column_number, expected_size):\n",
    "    \"\"\"Checks that every scan has the same voxel dimension, specified by the user.\"\"\"\n",
    "    consistency_boolean = True\n",
    "    for row in cleaned_dataframe.index:\n",
    "        if cleaned_dataframe[column_number][row] == expected_size:\n",
    "            continue\n",
    "        elif cleaned_dataframe[column_number][row] != expected_size:\n",
    "            print(\"Subject scan \" + cleaned_dataframe[0][row] + \" does not have voxel size of \" +str(expected_size))\n",
    "            consistency_boolean = False\n",
    "    return consistency_boolean\n"
   ]
  },
  {
   "cell_type": "markdown",
   "metadata": {},
   "source": [
    "#### Creating outlier assessment module"
   ]
  },
  {
   "cell_type": "code",
   "execution_count": 3,
   "metadata": {},
   "outputs": [
    {
     "name": "stdout",
     "output_type": "stream",
     "text": [
      "Writing kathodes_package/outlier_assessment.py\n"
     ]
    }
   ],
   "source": [
    "%%writefile kathodes_package/outlier_assessment.py\n",
    "\n",
    "def outlierStats(outlier_list):\n",
    "    \"\"\"Takes a list of outliers and computes the mean and standard deviation\"\"\"\n",
    "    try:\n",
    "        outlierMean = outlier_list.mean()\n",
    "        outlierStdev = outlier_list.std()\n",
    "        return outlierMean, outlierStdev\n",
    "    except TypeError :\n",
    "        explanation = \"Cannot compute statistics on a list of non-numerical elements.\"\n",
    "        return explanation\n",
    "    \n",
    "def outlierExclude(cleaned_dataframe, column_number, stdev_cutoff_factor):\n",
    "    \"\"\"Uses outlierStats to determine which scans have outlying volumes above a specified threshold and removes them.\"\"\"\n",
    "    column_as_series = cleaned_dataframe[column_number]\n",
    "    column_as_list = column_as_series.tolist()\n",
    "    mean, stdev = outlierStats(column_as_list)\n",
    "    upper_threshold = mean + (stdev * stdev_cutoff_factor)\n",
    "    lower_threshold = mean - (stdev * stdev_cutoff_factor)\n",
    "    noOutlier_list = []\n",
    "    for row in cleaned_dataframe.index:\n",
    "        if cleaned_dataframe[column_number][row] > upper_threshold | cleaned_dataframe[column_number][row] < lower_threshold:\n",
    "            print(\"Dropping subject scan \" + cleaned_dataframe[0][row] \" due to \" + str(cleaned_dataframe[column_number][row]) + \" outlying volumes.\" )\n",
    "        else:\n",
    "            noOutlier_list.append(cleaned_dataframe[:][row])\n",
    "    noOutlier_dataframe = pd.DataFrame(noOutlier_list)"
   ]
  },
  {
   "cell_type": "code",
   "execution_count": null,
   "metadata": {},
   "outputs": [],
   "source": [
    "\n",
    "# see http://katyhuff.github.io/python-testing/03-exceptions/\n",
    "def mean(num_list):\n",
    "    try:\n",
    "        return sum(num_list)/len(num_list)\n",
    "    except ZeroDivisionError :\n",
    "        return 0\n",
    "    except TypeError as detail :\n",
    "        msg = \"The algebraic mean of an non-numerical list is undefined.\\\n",
    "               Please provide a list of numbers.\"\n",
    "        raise TypeError(detail.__str__() + \"\\n\" +  msg)"
   ]
  },
  {
   "cell_type": "code",
   "execution_count": null,
   "metadata": {},
   "outputs": [],
   "source": []
  },
  {
   "cell_type": "code",
   "execution_count": 7,
   "metadata": {},
   "outputs": [
    {
     "name": "stdout",
     "output_type": "stream",
     "text": [
      "Obtaining file:///Users/katherinesoderberg/Documents/PythonClass/project_spring_2020\n",
      "Installing collected packages: kathodes-package\n",
      "  Found existing installation: kathodes-package 0.0.1\n",
      "    Can't uninstall 'kathodes-package'. No files were found to uninstall.\n",
      "  Running setup.py develop for kathodes-package\n",
      "Successfully installed kathodes-package\n",
      "Note: you may need to restart the kernel to use updated packages.\n"
     ]
    }
   ],
   "source": [
    "pip install -e ."
   ]
  },
  {
   "cell_type": "code",
   "execution_count": 8,
   "metadata": {},
   "outputs": [],
   "source": [
    "import kathodes_package"
   ]
  },
  {
   "cell_type": "code",
   "execution_count": 12,
   "metadata": {},
   "outputs": [
    {
     "ename": "AttributeError",
     "evalue": "module 'example_pkg' has no attribute 'add'",
     "output_type": "error",
     "traceback": [
      "\u001b[0;31m---------------------------------------------------------------------------\u001b[0m",
      "\u001b[0;31mAttributeError\u001b[0m                            Traceback (most recent call last)",
      "\u001b[0;32m<ipython-input-12-bca6624cb538>\u001b[0m in \u001b[0;36m<module>\u001b[0;34m\u001b[0m\n\u001b[0;32m----> 1\u001b[0;31m \u001b[0mexample_pkg\u001b[0m\u001b[0;34m.\u001b[0m\u001b[0madd\u001b[0m\u001b[0;34m(\u001b[0m\u001b[0;36m4\u001b[0m\u001b[0;34m,\u001b[0m\u001b[0;36m5\u001b[0m\u001b[0;34m)\u001b[0m\u001b[0;34m\u001b[0m\u001b[0;34m\u001b[0m\u001b[0m\n\u001b[0m",
      "\u001b[0;31mAttributeError\u001b[0m: module 'example_pkg' has no attribute 'add'"
     ]
    }
   ],
   "source": [
    "example_pkg.add(4,5)"
   ]
  },
  {
   "cell_type": "code",
   "execution_count": null,
   "metadata": {},
   "outputs": [],
   "source": [
    "## Demonstrating the package with example spreadsheet"
   ]
  },
  {
   "cell_type": "code",
   "execution_count": 1,
   "metadata": {},
   "outputs": [
    {
     "name": "stdout",
     "output_type": "stream",
     "text": [
      "The head of the file is:\n",
      "                         sub rest1.date.seq  rest1.NumOutliers  rest1.TR  \\\n",
      "0  abductor_lothian.06192015        61915.4               10.0       2.0   \n",
      "1  abductor_lothian.11082017       110817.4               15.0       2.0   \n",
      "2    addict_bavduin.09262013        92613.4               12.0       2.0   \n",
      "3    address_humans.04102014        41014.4                5.0       2.0   \n",
      "4    address_humans.04082016        40816.4               19.0       2.0   \n",
      "\n",
      "   rest1.nvox1  rest1.nvox2  rest1.nvox3  rest1.numTRs Keep?  rest2.date.seq  \\\n",
      "0        1.875        1.875          3.0         184.0     y         61915.5   \n",
      "1        1.875        1.875          3.0         184.0     y        112917.4   \n",
      "2        1.875        1.875          3.0         184.0     y         92613.5   \n",
      "3        1.875        1.875          3.0         184.0     y         41014.5   \n",
      "4        1.875        1.875          3.0         184.0     y         40816.5   \n",
      "\n",
      "   ...  rest7.nvox2  rest7.nvox3  rest7.numTRs  rest8.date.seq  \\\n",
      "0  ...          NaN          NaN           NaN             NaN   \n",
      "1  ...          NaN          NaN           NaN             NaN   \n",
      "2  ...          NaN          NaN           NaN             NaN   \n",
      "3  ...          NaN          NaN           NaN             NaN   \n",
      "4  ...          NaN          NaN           NaN             NaN   \n",
      "\n",
      "   rest8.NumOutliers  rest8.TR rest8.nvox1  rest8.nvox2  rest8.nvox3  \\\n",
      "0                NaN       NaN         NaN          NaN          NaN   \n",
      "1                NaN       NaN         NaN          NaN          NaN   \n",
      "2                NaN       NaN         NaN          NaN          NaN   \n",
      "3                NaN       NaN         NaN          NaN          NaN   \n",
      "4                NaN       NaN         NaN          NaN          NaN   \n",
      "\n",
      "   rest8.numTRs  \n",
      "0           NaN  \n",
      "1           NaN  \n",
      "2           NaN  \n",
      "3           NaN  \n",
      "4           NaN  \n",
      "\n",
      "[5 rows x 62 columns]\n",
      "Summary information about the file is as follows:\n",
      "<class 'pandas.core.frame.DataFrame'>\n",
      "RangeIndex: 475 entries, 0 to 474\n",
      "Data columns (total 62 columns):\n",
      "sub                  475 non-null object\n",
      "rest1.date.seq       475 non-null object\n",
      "rest1.NumOutliers    467 non-null float64\n",
      "rest1.TR             467 non-null float64\n",
      "rest1.nvox1          467 non-null float64\n",
      "rest1.nvox2          467 non-null float64\n",
      "rest1.nvox3          467 non-null float64\n",
      "rest1.numTRs         467 non-null float64\n",
      "Keep?                467 non-null object\n",
      "rest2.date.seq       467 non-null float64\n",
      "rest2.NumOutliers    467 non-null float64\n",
      "rest2.TR             467 non-null float64\n",
      "rest2.nvox1          467 non-null float64\n",
      "rest2.nvox2          467 non-null float64\n",
      "rest2.nvox3          467 non-null float64\n",
      "rest2.numTRs         467 non-null float64\n",
      "Keep?.1              467 non-null object\n",
      "rest3.date.seq       106 non-null float64\n",
      "rest3.NumOutliers    106 non-null float64\n",
      "rest3.TR             106 non-null float64\n",
      "rest3.nvox1          106 non-null float64\n",
      "rest3.nvox2          106 non-null float64\n",
      "rest3.nvox3          106 non-null float64\n",
      "rest3.numTRs         106 non-null float64\n",
      "Keep?.2              104 non-null object\n",
      "rest4.date.seq       30 non-null float64\n",
      "rest4.NumOutliers    30 non-null float64\n",
      "rest4.TR             30 non-null float64\n",
      "rest4.nvox1          30 non-null float64\n",
      "rest4.nvox2          30 non-null float64\n",
      "rest4.nvox3          30 non-null float64\n",
      "rest4.numTRs         30 non-null float64\n",
      "Unnamed: 32          27 non-null object\n",
      "rest5.date.seq       11 non-null float64\n",
      "rest5.NumOutliers    11 non-null float64\n",
      "rest5.TR             11 non-null float64\n",
      "rest5.nvox1          11 non-null float64\n",
      "rest5.nvox2          11 non-null float64\n",
      "rest5.nvox3          11 non-null float64\n",
      "rest5.numTRs         11 non-null float64\n",
      "Unnamed: 40          1 non-null object\n",
      "rest6.date.seq       10 non-null object\n",
      "rest6.NumOutliers    2 non-null float64\n",
      "rest6.TR             2 non-null float64\n",
      "rest6.nvox1          2 non-null float64\n",
      "rest6.nvox2          2 non-null float64\n",
      "rest6.nvox3          2 non-null float64\n",
      "rest6.numTRs         2 non-null float64\n",
      "rest7.date.seq       2 non-null object\n",
      "rest7.NumOutliers    1 non-null float64\n",
      "rest7.TR             1 non-null float64\n",
      "rest7.nvox1          1 non-null float64\n",
      "rest7.nvox2          1 non-null float64\n",
      "rest7.nvox3          1 non-null float64\n",
      "rest7.numTRs         1 non-null float64\n",
      "rest8.date.seq       1 non-null float64\n",
      "rest8.NumOutliers    1 non-null float64\n",
      "rest8.TR             1 non-null float64\n",
      "rest8.nvox1          1 non-null float64\n",
      "rest8.nvox2          1 non-null float64\n",
      "rest8.nvox3          1 non-null float64\n",
      "rest8.numTRs         1 non-null float64\n",
      "dtypes: float64(53), object(9)\n",
      "memory usage: 230.2+ KB\n",
      "None\n",
      "The file contains information about 475 scans.\n",
      "Index(['sub', 'rest1.date.seq', 'rest1.NumOutliers', 'rest1.TR', 'rest1.nvox1',\n",
      "       'rest1.nvox2', 'rest1.nvox3', 'rest1.numTRs', 'Keep?', 'rest2.date.seq',\n",
      "       'rest2.NumOutliers', 'rest2.TR', 'rest2.nvox1', 'rest2.nvox2',\n",
      "       'rest2.nvox3', 'rest2.numTRs', 'Keep?.1', 'rest3.date.seq',\n",
      "       'rest3.NumOutliers', 'rest3.TR', 'rest3.nvox1', 'rest3.nvox2',\n",
      "       'rest3.nvox3', 'rest3.numTRs', 'Keep?.2', 'rest4.date.seq',\n",
      "       'rest4.NumOutliers', 'rest4.TR', 'rest4.nvox1', 'rest4.nvox2',\n",
      "       'rest4.nvox3', 'rest4.numTRs', 'Unnamed: 32', 'rest5.date.seq',\n",
      "       'rest5.NumOutliers', 'rest5.TR', 'rest5.nvox1', 'rest5.nvox2',\n",
      "       'rest5.nvox3', 'rest5.numTRs', 'Unnamed: 40', 'rest6.date.seq',\n",
      "       'rest6.NumOutliers', 'rest6.TR', 'rest6.nvox1', 'rest6.nvox2',\n",
      "       'rest6.nvox3', 'rest6.numTRs', 'rest7.date.seq', 'rest7.NumOutliers',\n",
      "       'rest7.TR', 'rest7.nvox1', 'rest7.nvox2', 'rest7.nvox3', 'rest7.numTRs',\n",
      "       'rest8.date.seq', 'rest8.NumOutliers', 'rest8.TR', 'rest8.nvox1',\n",
      "       'rest8.nvox2', 'rest8.nvox3', 'rest8.numTRs'],\n",
      "      dtype='object')\n"
     ]
    }
   ],
   "source": [
    "from kathodes_package import filesummary\n",
    "filesummary.summarize(\"restqclist.040220_KS.csv\")\n",
    "column_names = filesummary.listColumns(\"restqclist.040220_KS.csv\")\n",
    "print(column_names)"
   ]
  },
  {
   "cell_type": "code",
   "execution_count": null,
   "metadata": {},
   "outputs": [],
   "source": []
  }
 ],
 "metadata": {
  "kernelspec": {
   "display_name": "Python 3",
   "language": "python",
   "name": "python3"
  },
  "language_info": {
   "codemirror_mode": {
    "name": "ipython",
    "version": 3
   },
   "file_extension": ".py",
   "mimetype": "text/x-python",
   "name": "python",
   "nbconvert_exporter": "python",
   "pygments_lexer": "ipython3",
   "version": "3.7.4"
  }
 },
 "nbformat": 4,
 "nbformat_minor": 4
}
